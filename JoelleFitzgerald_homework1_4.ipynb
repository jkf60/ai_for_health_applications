{
  "nbformat": 4,
  "nbformat_minor": 0,
  "metadata": {
    "colab": {
      "provenance": [],
      "toc_visible": true
    },
    "kernelspec": {
      "name": "python3",
      "display_name": "Python 3"
    },
    "language_info": {
      "name": "python"
    }
  },
  "cells": [
    {
      "cell_type": "markdown",
      "source": [
        "# Homework 1: Classification [5 points]\n",
        "\n",
        "\n",
        "### HIDS 506, Spring 2023\n",
        "\n",
        "### Due: Thursday, Feb 9th, 2022 11:59 pm E.T.\n",
        "\n",
        "This homework will test your knowledge about Classification that you learned in lecture3. Fill in the code/answers for the questions as indicated below. \n",
        "\n",
        "Please edit this document directly using Jupyter or Google Colab and answer each of the questions in-line as indicated. \n",
        "\n",
        "Turn in a single document i.e. the Notebook showing all of your code and output for the entire assignment, with each question clearly demarcated. Submit your completed assignment through Canvas. The notebook can be downloaded by clicking the `File` option (top left) and clicking `Download .ipynb` in the drop down menu."
      ],
      "metadata": {
        "id": "DJvt-jx24dAH"
      }
    },
    {
      "cell_type": "markdown",
      "source": [
        "## 1. Gradient Descent (0.5 points)"
      ],
      "metadata": {
        "id": "f_8ME9YG43Ua"
      }
    },
    {
      "cell_type": "markdown",
      "source": [
        "When performing gradient descent on a large data set, which of the following batch sizes will likely be more efficient and why? Answer in a few sentences (2-3).\n",
        "\n",
        "\n",
        "\n",
        "\n",
        "\n",
        "1.   A small batch or even a batch of one example (SGD).\n",
        "2.   The full batch.\n",
        "\n"
      ],
      "metadata": {
        "id": "ib1iSEMn5UY0"
      }
    },
    {
      "cell_type": "markdown",
      "source": [
        "Answer: \n",
        "\n",
        "1. When performing gradient descent on a large dataset, a training epoch focused on a batch request for one example (performing updates for one example at a time) may provide a solution for memory storage. A small batch request using Stochastic Gradient Descent (SGD) can be helpful to preserve memory storage by only holding one example at a time and return frequent updates. However, frequent updates may result in loss of computational efficiency and noisy gradients.\n",
        "\n",
        "2. Running a full batch request on a large dataset can have computational effiecny with a stable error gradient. However, because the data set is so large, a full batch request may take more time to produce results, use more memory storage, and only updates fully once the model has evaluated all training examples.\n",
        "\n",
        "SGD is likely to be more effcient and more favorable for large datasets as this optimization technique involves a batch request of one-sample at a time. With many samples and features in a large dataset, traditional gradient descent with one large batch request may result in high run-times and insufficent memory storage. Evaluating each sample (one at a time) reduces run time and memory storage to provide detailed results for large datasets. \n"
      ],
      "metadata": {
        "id": "_Ydzu7X_6A5D"
      }
    },
    {
      "cell_type": "markdown",
      "source": [
        "## 2. Sigmoid Function (0.5 points)\n",
        "\n",
        "What is the primary purpose of the sigmoid/logistic function in generating the hypothesis function output in logistic regression?\n",
        "\n",
        "1.   Make the loss/cost function convex\n",
        "2.   Map the decision boundary value (θᵀX) to a range between (0,1) \n",
        "3.   Make the loss/cost function differentiable\n",
        "4.   Efficient computation of feature weights "
      ],
      "metadata": {
        "id": "QydrZPsK69P_"
      }
    },
    {
      "cell_type": "markdown",
      "source": [
        "Answer:\n",
        "\n",
        "The primary purpose of the sigmoid/logistic function in generating the hypothesis function output in logistic regression is to map the decision boundary value to a range between (0,1). The sigmoid function is an activation function which maps any real number to the (0, 1) transforming an arbitrary-valued function into a function better suited for classification."
      ],
      "metadata": {
        "id": "hY6KVGSj99aK"
      }
    },
    {
      "cell_type": "markdown",
      "source": [
        "## 3. Hospital Length of Stay Classification (4 points)\n",
        "\n",
        "We will transform the regression problem of predicting the numerical continuous value length of stay (`LOS`) that we studied in lecture 2 lab to a classification problem and fit and evaluate classification models which we studied in lecture 3 lab. We will convert the `LOS` numerical continuous variable to a binary label indicating whether the patient was in the hospital for less than a week or not. Perform the following tasks:\n",
        "\n",
        "1. You will be using the `los_dataset_cleaned.csv` that we used in lecture 2 lab. Download and read the dataset from Files/Homeworks/Homework1 on Canvas. The dataset has already been cleaned and features for prediction created. No further feature creation/engineering and cleaning is required. \n",
        "\n",
        "2. Create a binary label `Outcome` to indicate if the patient stayed a week or more in the hospital  i.e.  `if LOS > 6 days` then y=1 (positive label); `if LOS <=6 days` then y=0 (negative label) . What is the distribution of this binary `Outcome` label. Split the dataset into features matrix and the outcome variable. Remember to remove the `LOS` numerical continuous variable as this is not needed and if included induce data leakage from the features to the binary outcome. Note: Refer to lab 1 `1_EDA_solved.ipyn`b to check how to create a new column based on conditions on a different column (Hint: combination of a function and the `apply` function)\n",
        "\n",
        "3. Split the dataset into training and test sets. Use a split of your choice (e.g. 80/20 or 70/30)\n",
        "\n",
        "4. Fit a Logistic Regression model on the training set and output evaluation metrics (precision, recall and f1-score) for prediction on the test set. Also, print the classification report for predictions on the test set.\n",
        "\n",
        "5. Fit one other classifier (Random Forest Classifier or Support Vector Machine) and repeat step 4. Did the performance on the test set improve?\n",
        "\n",
        "6. Output a feature importance/ranking using any tree based classifier on the training set. Hint : refer to `Feature Importance using Tree-Based Classifiers` section in lab 3 `3_classification_solved.ipynb notebook`.\n",
        "\n"
      ],
      "metadata": {
        "id": "wtSkprLf-A1r"
      }
    },
    {
      "cell_type": "code",
      "source": [
        "# mounting google drive to import dataset \n",
        "from google.colab import drive\n",
        "drive.mount('/content/drive')"
      ],
      "metadata": {
        "colab": {
          "base_uri": "https://localhost:8080/"
        },
        "id": "dedG-h6sjOSL",
        "outputId": "314df09e-952f-471f-d9a8-043b47f2c56a"
      },
      "execution_count": 2,
      "outputs": [
        {
          "output_type": "stream",
          "name": "stdout",
          "text": [
            "Mounted at /content/drive\n"
          ]
        }
      ]
    },
    {
      "cell_type": "markdown",
      "source": [
        "\n",
        "1. You will be using the los_dataset_cleaned.csv that we used in lecture 2 lab. Download and read the dataset from Files/Homeworks/Homework1 on Canvas. The dataset has already been cleaned and features for prediction created. No further feature creation/engineering and cleaning is required.\n"
      ],
      "metadata": {
        "id": "Ls0vWbAxJ8bd"
      }
    },
    {
      "cell_type": "code",
      "source": [
        "#Import packages\n",
        "from collections import Counter\n",
        "import pandas as pd\n",
        "import numpy as np\n",
        "import collections, numpy\n",
        "import mlxtend\n",
        "import matplotlib \n",
        "from matplotlib import pyplot \n",
        "import matplotlib.pyplot as plt\n",
        "import seaborn as sns; sns.set()\n",
        "matplotlib.rcParams['figure.figsize'] = (10, 10)\n",
        "\n",
        "\n",
        "from sklearn.datasets import make_classification\n",
        "from sklearn.metrics import confusion_matrix\n",
        "from mlxtend.plotting import plot_confusion_matrix\n",
        "\n",
        "\n",
        "from sklearn.linear_model import LogisticRegression\n",
        "from sklearn.ensemble import RandomForestClassifier\n",
        "from sklearn import svm\n",
        "from sklearn.neighbors import KNeighborsClassifier\n",
        "from sklearn.model_selection import train_test_split\n",
        "from sklearn.model_selection import cross_validate\n",
        "\n",
        "from sklearn.metrics import classification_report\n",
        "from sklearn.metrics import accuracy_score, f1_score, roc_auc_score, precision_score, recall_score\n",
        "from sklearn.metrics import roc_curve, precision_recall_curve, auc"
      ],
      "metadata": {
        "id": "rHQvnQIYo6C8"
      },
      "execution_count": 3,
      "outputs": []
    },
    {
      "cell_type": "code",
      "source": [
        "# reading in the los_dataset_cleaned.csv data set\n",
        "data_los = \"/content/drive/MyDrive/Colab Notebooks/data-2/los_dataset_cleaned.csv\"\n",
        "los_df = pd.read_csv(data_los)\n",
        "los_df.head()"
      ],
      "metadata": {
        "colab": {
          "base_uri": "https://localhost:8080/",
          "height": 314
        },
        "id": "-hdW7Bl_jtPR",
        "outputId": "fec9862a-bc3c-4b4a-d6e4-171184f1a185"
      },
      "execution_count": 4,
      "outputs": [
        {
          "output_type": "execute_result",
          "data": {
            "text/plain": [
              "        LOS  blood  circulatory  congenital  digestive  endocrine  \\\n",
              "0  1.144444    0.0          1.0         0.0        0.0        0.0   \n",
              "1  5.496528    0.0          4.0         0.0        0.0        1.0   \n",
              "2  6.768056    0.0          2.0         0.0        0.0        2.0   \n",
              "3  2.856944    0.0          2.0         0.0        1.0        1.0   \n",
              "4  3.534028    0.0          3.0         0.0        0.0        1.0   \n",
              "\n",
              "   genitourinary  infectious  injury  mental  ...  AGE_newborn  AGE_senior  \\\n",
              "0            0.0         0.0     4.0     1.0  ...            0           1   \n",
              "1            1.0         0.0     1.0     0.0  ...            0           1   \n",
              "2            0.0         0.0     3.0     0.0  ...            0           1   \n",
              "3            0.0         0.0     0.0     0.0  ...            0           0   \n",
              "4            0.0         0.0     0.0     0.0  ...            0           1   \n",
              "\n",
              "   AGE_young_adult  MAR_DIVORCED  MAR_LIFE PARTNER  MAR_MARRIED  \\\n",
              "0                0             0                 0            1   \n",
              "1                0             0                 0            1   \n",
              "2                0             0                 0            1   \n",
              "3                0             0                 0            0   \n",
              "4                0             0                 0            1   \n",
              "\n",
              "   MAR_SEPARATED  MAR_SINGLE  MAR_UNKNOWN (DEFAULT)  MAR_WIDOWED  \n",
              "0              0           0                      0            0  \n",
              "1              0           0                      0            0  \n",
              "2              0           0                      0            0  \n",
              "3              0           1                      0            0  \n",
              "4              0           0                      0            0  \n",
              "\n",
              "[5 rows x 49 columns]"
            ],
            "text/html": [
              "\n",
              "  <div id=\"df-f6e35a70-f7ea-4929-82df-6e6214f2e043\">\n",
              "    <div class=\"colab-df-container\">\n",
              "      <div>\n",
              "<style scoped>\n",
              "    .dataframe tbody tr th:only-of-type {\n",
              "        vertical-align: middle;\n",
              "    }\n",
              "\n",
              "    .dataframe tbody tr th {\n",
              "        vertical-align: top;\n",
              "    }\n",
              "\n",
              "    .dataframe thead th {\n",
              "        text-align: right;\n",
              "    }\n",
              "</style>\n",
              "<table border=\"1\" class=\"dataframe\">\n",
              "  <thead>\n",
              "    <tr style=\"text-align: right;\">\n",
              "      <th></th>\n",
              "      <th>LOS</th>\n",
              "      <th>blood</th>\n",
              "      <th>circulatory</th>\n",
              "      <th>congenital</th>\n",
              "      <th>digestive</th>\n",
              "      <th>endocrine</th>\n",
              "      <th>genitourinary</th>\n",
              "      <th>infectious</th>\n",
              "      <th>injury</th>\n",
              "      <th>mental</th>\n",
              "      <th>...</th>\n",
              "      <th>AGE_newborn</th>\n",
              "      <th>AGE_senior</th>\n",
              "      <th>AGE_young_adult</th>\n",
              "      <th>MAR_DIVORCED</th>\n",
              "      <th>MAR_LIFE PARTNER</th>\n",
              "      <th>MAR_MARRIED</th>\n",
              "      <th>MAR_SEPARATED</th>\n",
              "      <th>MAR_SINGLE</th>\n",
              "      <th>MAR_UNKNOWN (DEFAULT)</th>\n",
              "      <th>MAR_WIDOWED</th>\n",
              "    </tr>\n",
              "  </thead>\n",
              "  <tbody>\n",
              "    <tr>\n",
              "      <th>0</th>\n",
              "      <td>1.144444</td>\n",
              "      <td>0.0</td>\n",
              "      <td>1.0</td>\n",
              "      <td>0.0</td>\n",
              "      <td>0.0</td>\n",
              "      <td>0.0</td>\n",
              "      <td>0.0</td>\n",
              "      <td>0.0</td>\n",
              "      <td>4.0</td>\n",
              "      <td>1.0</td>\n",
              "      <td>...</td>\n",
              "      <td>0</td>\n",
              "      <td>1</td>\n",
              "      <td>0</td>\n",
              "      <td>0</td>\n",
              "      <td>0</td>\n",
              "      <td>1</td>\n",
              "      <td>0</td>\n",
              "      <td>0</td>\n",
              "      <td>0</td>\n",
              "      <td>0</td>\n",
              "    </tr>\n",
              "    <tr>\n",
              "      <th>1</th>\n",
              "      <td>5.496528</td>\n",
              "      <td>0.0</td>\n",
              "      <td>4.0</td>\n",
              "      <td>0.0</td>\n",
              "      <td>0.0</td>\n",
              "      <td>1.0</td>\n",
              "      <td>1.0</td>\n",
              "      <td>0.0</td>\n",
              "      <td>1.0</td>\n",
              "      <td>0.0</td>\n",
              "      <td>...</td>\n",
              "      <td>0</td>\n",
              "      <td>1</td>\n",
              "      <td>0</td>\n",
              "      <td>0</td>\n",
              "      <td>0</td>\n",
              "      <td>1</td>\n",
              "      <td>0</td>\n",
              "      <td>0</td>\n",
              "      <td>0</td>\n",
              "      <td>0</td>\n",
              "    </tr>\n",
              "    <tr>\n",
              "      <th>2</th>\n",
              "      <td>6.768056</td>\n",
              "      <td>0.0</td>\n",
              "      <td>2.0</td>\n",
              "      <td>0.0</td>\n",
              "      <td>0.0</td>\n",
              "      <td>2.0</td>\n",
              "      <td>0.0</td>\n",
              "      <td>0.0</td>\n",
              "      <td>3.0</td>\n",
              "      <td>0.0</td>\n",
              "      <td>...</td>\n",
              "      <td>0</td>\n",
              "      <td>1</td>\n",
              "      <td>0</td>\n",
              "      <td>0</td>\n",
              "      <td>0</td>\n",
              "      <td>1</td>\n",
              "      <td>0</td>\n",
              "      <td>0</td>\n",
              "      <td>0</td>\n",
              "      <td>0</td>\n",
              "    </tr>\n",
              "    <tr>\n",
              "      <th>3</th>\n",
              "      <td>2.856944</td>\n",
              "      <td>0.0</td>\n",
              "      <td>2.0</td>\n",
              "      <td>0.0</td>\n",
              "      <td>1.0</td>\n",
              "      <td>1.0</td>\n",
              "      <td>0.0</td>\n",
              "      <td>0.0</td>\n",
              "      <td>0.0</td>\n",
              "      <td>0.0</td>\n",
              "      <td>...</td>\n",
              "      <td>0</td>\n",
              "      <td>0</td>\n",
              "      <td>0</td>\n",
              "      <td>0</td>\n",
              "      <td>0</td>\n",
              "      <td>0</td>\n",
              "      <td>0</td>\n",
              "      <td>1</td>\n",
              "      <td>0</td>\n",
              "      <td>0</td>\n",
              "    </tr>\n",
              "    <tr>\n",
              "      <th>4</th>\n",
              "      <td>3.534028</td>\n",
              "      <td>0.0</td>\n",
              "      <td>3.0</td>\n",
              "      <td>0.0</td>\n",
              "      <td>0.0</td>\n",
              "      <td>1.0</td>\n",
              "      <td>0.0</td>\n",
              "      <td>0.0</td>\n",
              "      <td>0.0</td>\n",
              "      <td>0.0</td>\n",
              "      <td>...</td>\n",
              "      <td>0</td>\n",
              "      <td>1</td>\n",
              "      <td>0</td>\n",
              "      <td>0</td>\n",
              "      <td>0</td>\n",
              "      <td>1</td>\n",
              "      <td>0</td>\n",
              "      <td>0</td>\n",
              "      <td>0</td>\n",
              "      <td>0</td>\n",
              "    </tr>\n",
              "  </tbody>\n",
              "</table>\n",
              "<p>5 rows × 49 columns</p>\n",
              "</div>\n",
              "      <button class=\"colab-df-convert\" onclick=\"convertToInteractive('df-f6e35a70-f7ea-4929-82df-6e6214f2e043')\"\n",
              "              title=\"Convert this dataframe to an interactive table.\"\n",
              "              style=\"display:none;\">\n",
              "        \n",
              "  <svg xmlns=\"http://www.w3.org/2000/svg\" height=\"24px\"viewBox=\"0 0 24 24\"\n",
              "       width=\"24px\">\n",
              "    <path d=\"M0 0h24v24H0V0z\" fill=\"none\"/>\n",
              "    <path d=\"M18.56 5.44l.94 2.06.94-2.06 2.06-.94-2.06-.94-.94-2.06-.94 2.06-2.06.94zm-11 1L8.5 8.5l.94-2.06 2.06-.94-2.06-.94L8.5 2.5l-.94 2.06-2.06.94zm10 10l.94 2.06.94-2.06 2.06-.94-2.06-.94-.94-2.06-.94 2.06-2.06.94z\"/><path d=\"M17.41 7.96l-1.37-1.37c-.4-.4-.92-.59-1.43-.59-.52 0-1.04.2-1.43.59L10.3 9.45l-7.72 7.72c-.78.78-.78 2.05 0 2.83L4 21.41c.39.39.9.59 1.41.59.51 0 1.02-.2 1.41-.59l7.78-7.78 2.81-2.81c.8-.78.8-2.07 0-2.86zM5.41 20L4 18.59l7.72-7.72 1.47 1.35L5.41 20z\"/>\n",
              "  </svg>\n",
              "      </button>\n",
              "      \n",
              "  <style>\n",
              "    .colab-df-container {\n",
              "      display:flex;\n",
              "      flex-wrap:wrap;\n",
              "      gap: 12px;\n",
              "    }\n",
              "\n",
              "    .colab-df-convert {\n",
              "      background-color: #E8F0FE;\n",
              "      border: none;\n",
              "      border-radius: 50%;\n",
              "      cursor: pointer;\n",
              "      display: none;\n",
              "      fill: #1967D2;\n",
              "      height: 32px;\n",
              "      padding: 0 0 0 0;\n",
              "      width: 32px;\n",
              "    }\n",
              "\n",
              "    .colab-df-convert:hover {\n",
              "      background-color: #E2EBFA;\n",
              "      box-shadow: 0px 1px 2px rgba(60, 64, 67, 0.3), 0px 1px 3px 1px rgba(60, 64, 67, 0.15);\n",
              "      fill: #174EA6;\n",
              "    }\n",
              "\n",
              "    [theme=dark] .colab-df-convert {\n",
              "      background-color: #3B4455;\n",
              "      fill: #D2E3FC;\n",
              "    }\n",
              "\n",
              "    [theme=dark] .colab-df-convert:hover {\n",
              "      background-color: #434B5C;\n",
              "      box-shadow: 0px 1px 3px 1px rgba(0, 0, 0, 0.15);\n",
              "      filter: drop-shadow(0px 1px 2px rgba(0, 0, 0, 0.3));\n",
              "      fill: #FFFFFF;\n",
              "    }\n",
              "  </style>\n",
              "\n",
              "      <script>\n",
              "        const buttonEl =\n",
              "          document.querySelector('#df-f6e35a70-f7ea-4929-82df-6e6214f2e043 button.colab-df-convert');\n",
              "        buttonEl.style.display =\n",
              "          google.colab.kernel.accessAllowed ? 'block' : 'none';\n",
              "\n",
              "        async function convertToInteractive(key) {\n",
              "          const element = document.querySelector('#df-f6e35a70-f7ea-4929-82df-6e6214f2e043');\n",
              "          const dataTable =\n",
              "            await google.colab.kernel.invokeFunction('convertToInteractive',\n",
              "                                                     [key], {});\n",
              "          if (!dataTable) return;\n",
              "\n",
              "          const docLinkHtml = 'Like what you see? Visit the ' +\n",
              "            '<a target=\"_blank\" href=https://colab.research.google.com/notebooks/data_table.ipynb>data table notebook</a>'\n",
              "            + ' to learn more about interactive tables.';\n",
              "          element.innerHTML = '';\n",
              "          dataTable['output_type'] = 'display_data';\n",
              "          await google.colab.output.renderOutput(dataTable, element);\n",
              "          const docLink = document.createElement('div');\n",
              "          docLink.innerHTML = docLinkHtml;\n",
              "          element.appendChild(docLink);\n",
              "        }\n",
              "      </script>\n",
              "    </div>\n",
              "  </div>\n",
              "  "
            ]
          },
          "metadata": {},
          "execution_count": 4
        }
      ]
    },
    {
      "cell_type": "code",
      "source": [
        "# visualize columns\n",
        "los_df.columns"
      ],
      "metadata": {
        "colab": {
          "base_uri": "https://localhost:8080/"
        },
        "id": "1I1W-UBjj_Ac",
        "outputId": "939493d2-730b-41c8-8077-8aa26c803044"
      },
      "execution_count": 5,
      "outputs": [
        {
          "output_type": "execute_result",
          "data": {
            "text/plain": [
              "Index(['LOS', 'blood', 'circulatory', 'congenital', 'digestive', 'endocrine',\n",
              "       'genitourinary', 'infectious', 'injury', 'mental', 'misc', 'muscular',\n",
              "       'neoplasms', 'nervous', 'pregnancy', 'prenatal', 'respiratory', 'skin',\n",
              "       'GENDER', 'ICU', 'NICU', 'ADM_ELECTIVE', 'ADM_EMERGENCY', 'ADM_NEWBORN',\n",
              "       'ADM_URGENT', 'INS_Government', 'INS_Medicaid', 'INS_Medicare',\n",
              "       'INS_Private', 'INS_Self Pay', 'REL_NOT SPECIFIED', 'REL_RELIGIOUS',\n",
              "       'REL_UNOBTAINABLE', 'ETH_ASIAN', 'ETH_BLACK/AFRICAN AMERICAN',\n",
              "       'ETH_HISPANIC/LATINO', 'ETH_OTHER/UNKNOWN', 'ETH_WHITE',\n",
              "       'AGE_middle_adult', 'AGE_newborn', 'AGE_senior', 'AGE_young_adult',\n",
              "       'MAR_DIVORCED', 'MAR_LIFE PARTNER', 'MAR_MARRIED', 'MAR_SEPARATED',\n",
              "       'MAR_SINGLE', 'MAR_UNKNOWN (DEFAULT)', 'MAR_WIDOWED'],\n",
              "      dtype='object')"
            ]
          },
          "metadata": {},
          "execution_count": 5
        }
      ]
    },
    {
      "cell_type": "code",
      "source": [
        "# visualize data types \n",
        "los_df.dtypes"
      ],
      "metadata": {
        "colab": {
          "base_uri": "https://localhost:8080/"
        },
        "id": "Ofg6ABtfmtjf",
        "outputId": "2f387c2f-4725-4a5a-f28a-fc4a3194ed66"
      },
      "execution_count": 6,
      "outputs": [
        {
          "output_type": "execute_result",
          "data": {
            "text/plain": [
              "LOS                           float64\n",
              "blood                         float64\n",
              "circulatory                   float64\n",
              "congenital                    float64\n",
              "digestive                     float64\n",
              "endocrine                     float64\n",
              "genitourinary                 float64\n",
              "infectious                    float64\n",
              "injury                        float64\n",
              "mental                        float64\n",
              "misc                          float64\n",
              "muscular                      float64\n",
              "neoplasms                     float64\n",
              "nervous                       float64\n",
              "pregnancy                     float64\n",
              "prenatal                      float64\n",
              "respiratory                   float64\n",
              "skin                          float64\n",
              "GENDER                        float64\n",
              "ICU                           float64\n",
              "NICU                          float64\n",
              "ADM_ELECTIVE                    int64\n",
              "ADM_EMERGENCY                   int64\n",
              "ADM_NEWBORN                     int64\n",
              "ADM_URGENT                      int64\n",
              "INS_Government                  int64\n",
              "INS_Medicaid                    int64\n",
              "INS_Medicare                    int64\n",
              "INS_Private                     int64\n",
              "INS_Self Pay                    int64\n",
              "REL_NOT SPECIFIED               int64\n",
              "REL_RELIGIOUS                   int64\n",
              "REL_UNOBTAINABLE                int64\n",
              "ETH_ASIAN                       int64\n",
              "ETH_BLACK/AFRICAN AMERICAN      int64\n",
              "ETH_HISPANIC/LATINO             int64\n",
              "ETH_OTHER/UNKNOWN               int64\n",
              "ETH_WHITE                       int64\n",
              "AGE_middle_adult                int64\n",
              "AGE_newborn                     int64\n",
              "AGE_senior                      int64\n",
              "AGE_young_adult                 int64\n",
              "MAR_DIVORCED                    int64\n",
              "MAR_LIFE PARTNER                int64\n",
              "MAR_MARRIED                     int64\n",
              "MAR_SEPARATED                   int64\n",
              "MAR_SINGLE                      int64\n",
              "MAR_UNKNOWN (DEFAULT)           int64\n",
              "MAR_WIDOWED                     int64\n",
              "dtype: object"
            ]
          },
          "metadata": {},
          "execution_count": 6
        }
      ]
    },
    {
      "cell_type": "code",
      "source": [
        "# visualize summary of information about data set \n",
        "los_df.info()"
      ],
      "metadata": {
        "colab": {
          "base_uri": "https://localhost:8080/"
        },
        "id": "kRr_7D-lnAHO",
        "outputId": "73e38bfd-d3b6-49e9-d212-d94358c6044a"
      },
      "execution_count": 7,
      "outputs": [
        {
          "output_type": "stream",
          "name": "stdout",
          "text": [
            "<class 'pandas.core.frame.DataFrame'>\n",
            "RangeIndex: 51037 entries, 0 to 51036\n",
            "Data columns (total 49 columns):\n",
            " #   Column                      Non-Null Count  Dtype  \n",
            "---  ------                      --------------  -----  \n",
            " 0   LOS                         51037 non-null  float64\n",
            " 1   blood                       51037 non-null  float64\n",
            " 2   circulatory                 51037 non-null  float64\n",
            " 3   congenital                  51037 non-null  float64\n",
            " 4   digestive                   51037 non-null  float64\n",
            " 5   endocrine                   51037 non-null  float64\n",
            " 6   genitourinary               51037 non-null  float64\n",
            " 7   infectious                  51037 non-null  float64\n",
            " 8   injury                      51037 non-null  float64\n",
            " 9   mental                      51037 non-null  float64\n",
            " 10  misc                        51037 non-null  float64\n",
            " 11  muscular                    51037 non-null  float64\n",
            " 12  neoplasms                   51037 non-null  float64\n",
            " 13  nervous                     51037 non-null  float64\n",
            " 14  pregnancy                   51037 non-null  float64\n",
            " 15  prenatal                    51037 non-null  float64\n",
            " 16  respiratory                 51037 non-null  float64\n",
            " 17  skin                        51037 non-null  float64\n",
            " 18  GENDER                      51037 non-null  float64\n",
            " 19  ICU                         51037 non-null  float64\n",
            " 20  NICU                        51037 non-null  float64\n",
            " 21  ADM_ELECTIVE                51037 non-null  int64  \n",
            " 22  ADM_EMERGENCY               51037 non-null  int64  \n",
            " 23  ADM_NEWBORN                 51037 non-null  int64  \n",
            " 24  ADM_URGENT                  51037 non-null  int64  \n",
            " 25  INS_Government              51037 non-null  int64  \n",
            " 26  INS_Medicaid                51037 non-null  int64  \n",
            " 27  INS_Medicare                51037 non-null  int64  \n",
            " 28  INS_Private                 51037 non-null  int64  \n",
            " 29  INS_Self Pay                51037 non-null  int64  \n",
            " 30  REL_NOT SPECIFIED           51037 non-null  int64  \n",
            " 31  REL_RELIGIOUS               51037 non-null  int64  \n",
            " 32  REL_UNOBTAINABLE            51037 non-null  int64  \n",
            " 33  ETH_ASIAN                   51037 non-null  int64  \n",
            " 34  ETH_BLACK/AFRICAN AMERICAN  51037 non-null  int64  \n",
            " 35  ETH_HISPANIC/LATINO         51037 non-null  int64  \n",
            " 36  ETH_OTHER/UNKNOWN           51037 non-null  int64  \n",
            " 37  ETH_WHITE                   51037 non-null  int64  \n",
            " 38  AGE_middle_adult            51037 non-null  int64  \n",
            " 39  AGE_newborn                 51037 non-null  int64  \n",
            " 40  AGE_senior                  51037 non-null  int64  \n",
            " 41  AGE_young_adult             51037 non-null  int64  \n",
            " 42  MAR_DIVORCED                51037 non-null  int64  \n",
            " 43  MAR_LIFE PARTNER            51037 non-null  int64  \n",
            " 44  MAR_MARRIED                 51037 non-null  int64  \n",
            " 45  MAR_SEPARATED               51037 non-null  int64  \n",
            " 46  MAR_SINGLE                  51037 non-null  int64  \n",
            " 47  MAR_UNKNOWN (DEFAULT)       51037 non-null  int64  \n",
            " 48  MAR_WIDOWED                 51037 non-null  int64  \n",
            "dtypes: float64(21), int64(28)\n",
            "memory usage: 19.1 MB\n"
          ]
        }
      ]
    },
    {
      "cell_type": "markdown",
      "source": [
        "2. Create a binary label Outcome to indicate if the patient stayed a week or more in the hospital i.e. if LOS > 6 days then y=1 (positive label); if LOS <=6 days then y=0 (negative label) . What is the distribution of this binary Outcome label. Split the dataset into features matrix and the outcome variable. Remember to remove the LOS numerical continuous variable as this is not needed and if included induce data leakage from the features to the binary outcome. Note: Refer to lab 1 1_EDA_solved.ipynb to check how to create a new column based on conditions on a different column (Hint: combination of a function and the apply function)\n"
      ],
      "metadata": {
        "id": "Zhs3xfBAKNU0"
      }
    },
    {
      "cell_type": "code",
      "source": [
        "# function takes as an input length of stay (LOS) and outputs classification for positive (y=1) or negagtive (y=0) label\n",
        "def los_groups(x):\n",
        "  # if length of stay (LOS) <= 6 days, y=0 (negative outcome/label)\n",
        "    if x <= 6:\n",
        "        return 0\n",
        "  # # if length of stay (LOS) > 6 days, y=1 (positive outcome/label)\n",
        "    if x > 6:\n",
        "      return 1"
      ],
      "metadata": {
        "id": "8vNFyIBenLQS"
      },
      "execution_count": 8,
      "outputs": []
    },
    {
      "cell_type": "code",
      "source": [
        "# applying los_groups to LOS column and creating a new column 'Outcome' to store outcome labels for each LOS\n",
        "los_df[\"Outcome\"] = los_df[\"LOS\"].apply(los_groups)\n",
        "los_df.Outcome.value_counts() # visualize counts of each outcome label "
      ],
      "metadata": {
        "colab": {
          "base_uri": "https://localhost:8080/"
        },
        "id": "WhG_ntZ0njo9",
        "outputId": "2d72879f-7a6b-46de-88d5-c8659040de85"
      },
      "execution_count": 9,
      "outputs": [
        {
          "output_type": "execute_result",
          "data": {
            "text/plain": [
              "1    27542\n",
              "0    23495\n",
              "Name: Outcome, dtype: int64"
            ]
          },
          "metadata": {},
          "execution_count": 9
        }
      ]
    },
    {
      "cell_type": "code",
      "source": [
        "# 'Outcome' only includes binary outcome values (0,1) indicating positive or negative for LOS > 6 (y=1) or LOS <= 6 (y=0)\n",
        "los_df[\"Outcome\"].head()"
      ],
      "metadata": {
        "colab": {
          "base_uri": "https://localhost:8080/"
        },
        "id": "Wuz2krGxoGJy",
        "outputId": "caa08ece-7c39-4256-fb21-a32f0f1510c2"
      },
      "execution_count": 10,
      "outputs": [
        {
          "output_type": "execute_result",
          "data": {
            "text/plain": [
              "0    0\n",
              "1    0\n",
              "2    1\n",
              "3    0\n",
              "4    0\n",
              "Name: Outcome, dtype: int64"
            ]
          },
          "metadata": {},
          "execution_count": 10
        }
      ]
    },
    {
      "cell_type": "code",
      "source": [
        "# visualize the distribution of the 'Outcome' column\n",
        "plt.hist(los_df['Outcome'])"
      ],
      "metadata": {
        "colab": {
          "base_uri": "https://localhost:8080/",
          "height": 662
        },
        "id": "x14WmJ-YKgV6",
        "outputId": "e0826ab4-48ad-4507-87fd-f199384127a0"
      },
      "execution_count": 11,
      "outputs": [
        {
          "output_type": "execute_result",
          "data": {
            "text/plain": [
              "(array([23495.,     0.,     0.,     0.,     0.,     0.,     0.,     0.,\n",
              "            0., 27542.]),\n",
              " array([0. , 0.1, 0.2, 0.3, 0.4, 0.5, 0.6, 0.7, 0.8, 0.9, 1. ]),\n",
              " <a list of 10 Patch objects>)"
            ]
          },
          "metadata": {},
          "execution_count": 11
        },
        {
          "output_type": "display_data",
          "data": {
            "text/plain": [
              "<Figure size 720x720 with 1 Axes>"
            ],
            "image/png": "[encoded data removed]"
          },
          "metadata": {}
        }
      ]
    },
    {
      "cell_type": "markdown",
      "source": [
        "3. Split the dataset into training and test sets. Use a split of your choice (e.g. 80/20 or 70/30)\n"
      ],
      "metadata": {
        "id": "shgqzdYlKu7l"
      }
    },
    {
      "cell_type": "code",
      "source": [
        "# Preparing the data for the ML model\n",
        "# Target Variable (Outcome)\n",
        "X_df = los_df.drop('Outcome',axis=1).drop('LOS', axis=1) # relevant features, dropping LOS and Outcome columns\n",
        "y_df = los_df['Outcome'] # Outcome measured "
      ],
      "metadata": {
        "id": "qUw6WMXuqsTN"
      },
      "execution_count": 12,
      "outputs": []
    },
    {
      "cell_type": "code",
      "source": [
        "# visualize features, ensure outcome is not included \n",
        "X_df.head()"
      ],
      "metadata": {
        "colab": {
          "base_uri": "https://localhost:8080/",
          "height": 314
        },
        "id": "Hvf6DoKmCU8_",
        "outputId": "ef589391-83c9-407b-baf4-fea0b319e280"
      },
      "execution_count": 13,
      "outputs": [
        {
          "output_type": "execute_result",
          "data": {
            "text/plain": [
              "   blood  circulatory  congenital  digestive  endocrine  genitourinary  \\\n",
              "0    0.0          1.0         0.0        0.0        0.0            0.0   \n",
              "1    0.0          4.0         0.0        0.0        1.0            1.0   \n",
              "2    0.0          2.0         0.0        0.0        2.0            0.0   \n",
              "3    0.0          2.0         0.0        1.0        1.0            0.0   \n",
              "4    0.0          3.0         0.0        0.0        1.0            0.0   \n",
              "\n",
              "   infectious  injury  mental  misc  ...  AGE_newborn  AGE_senior  \\\n",
              "0         0.0     4.0     1.0   0.0  ...            0           1   \n",
              "1         0.0     1.0     0.0   0.0  ...            0           1   \n",
              "2         0.0     3.0     0.0   0.0  ...            0           1   \n",
              "3         0.0     0.0     0.0   0.0  ...            0           0   \n",
              "4         0.0     0.0     0.0   0.0  ...            0           1   \n",
              "\n",
              "   AGE_young_adult  MAR_DIVORCED  MAR_LIFE PARTNER  MAR_MARRIED  \\\n",
              "0                0             0                 0            1   \n",
              "1                0             0                 0            1   \n",
              "2                0             0                 0            1   \n",
              "3                0             0                 0            0   \n",
              "4                0             0                 0            1   \n",
              "\n",
              "   MAR_SEPARATED  MAR_SINGLE  MAR_UNKNOWN (DEFAULT)  MAR_WIDOWED  \n",
              "0              0           0                      0            0  \n",
              "1              0           0                      0            0  \n",
              "2              0           0                      0            0  \n",
              "3              0           1                      0            0  \n",
              "4              0           0                      0            0  \n",
              "\n",
              "[5 rows x 48 columns]"
            ],
            "text/html": [
              "\n",
              "  <div id=\"df-579f6f0e-e11a-4936-8d24-282240bce663\">\n",
              "    <div class=\"colab-df-container\">\n",
              "      <div>\n",
              "<style scoped>\n",
              "    .dataframe tbody tr th:only-of-type {\n",
              "        vertical-align: middle;\n",
              "    }\n",
              "\n",
              "    .dataframe tbody tr th {\n",
              "        vertical-align: top;\n",
              "    }\n",
              "\n",
              "    .dataframe thead th {\n",
              "        text-align: right;\n",
              "    }\n",
              "</style>\n",
              "<table border=\"1\" class=\"dataframe\">\n",
              "  <thead>\n",
              "    <tr style=\"text-align: right;\">\n",
              "      <th></th>\n",
              "      <th>blood</th>\n",
              "      <th>circulatory</th>\n",
              "      <th>congenital</th>\n",
              "      <th>digestive</th>\n",
              "      <th>endocrine</th>\n",
              "      <th>genitourinary</th>\n",
              "      <th>infectious</th>\n",
              "      <th>injury</th>\n",
              "      <th>mental</th>\n",
              "      <th>misc</th>\n",
              "      <th>...</th>\n",
              "      <th>AGE_newborn</th>\n",
              "      <th>AGE_senior</th>\n",
              "      <th>AGE_young_adult</th>\n",
              "      <th>MAR_DIVORCED</th>\n",
              "      <th>MAR_LIFE PARTNER</th>\n",
              "      <th>MAR_MARRIED</th>\n",
              "      <th>MAR_SEPARATED</th>\n",
              "      <th>MAR_SINGLE</th>\n",
              "      <th>MAR_UNKNOWN (DEFAULT)</th>\n",
              "      <th>MAR_WIDOWED</th>\n",
              "    </tr>\n",
              "  </thead>\n",
              "  <tbody>\n",
              "    <tr>\n",
              "      <th>0</th>\n",
              "      <td>0.0</td>\n",
              "      <td>1.0</td>\n",
              "      <td>0.0</td>\n",
              "      <td>0.0</td>\n",
              "      <td>0.0</td>\n",
              "      <td>0.0</td>\n",
              "      <td>0.0</td>\n",
              "      <td>4.0</td>\n",
              "      <td>1.0</td>\n",
              "      <td>0.0</td>\n",
              "      <td>...</td>\n",
              "      <td>0</td>\n",
              "      <td>1</td>\n",
              "      <td>0</td>\n",
              "      <td>0</td>\n",
              "      <td>0</td>\n",
              "      <td>1</td>\n",
              "      <td>0</td>\n",
              "      <td>0</td>\n",
              "      <td>0</td>\n",
              "      <td>0</td>\n",
              "    </tr>\n",
              "    <tr>\n",
              "      <th>1</th>\n",
              "      <td>0.0</td>\n",
              "      <td>4.0</td>\n",
              "      <td>0.0</td>\n",
              "      <td>0.0</td>\n",
              "      <td>1.0</td>\n",
              "      <td>1.0</td>\n",
              "      <td>0.0</td>\n",
              "      <td>1.0</td>\n",
              "      <td>0.0</td>\n",
              "      <td>0.0</td>\n",
              "      <td>...</td>\n",
              "      <td>0</td>\n",
              "      <td>1</td>\n",
              "      <td>0</td>\n",
              "      <td>0</td>\n",
              "      <td>0</td>\n",
              "      <td>1</td>\n",
              "      <td>0</td>\n",
              "      <td>0</td>\n",
              "      <td>0</td>\n",
              "      <td>0</td>\n",
              "    </tr>\n",
              "    <tr>\n",
              "      <th>2</th>\n",
              "      <td>0.0</td>\n",
              "      <td>2.0</td>\n",
              "      <td>0.0</td>\n",
              "      <td>0.0</td>\n",
              "      <td>2.0</td>\n",
              "      <td>0.0</td>\n",
              "      <td>0.0</td>\n",
              "      <td>3.0</td>\n",
              "      <td>0.0</td>\n",
              "      <td>0.0</td>\n",
              "      <td>...</td>\n",
              "      <td>0</td>\n",
              "      <td>1</td>\n",
              "      <td>0</td>\n",
              "      <td>0</td>\n",
              "      <td>0</td>\n",
              "      <td>1</td>\n",
              "      <td>0</td>\n",
              "      <td>0</td>\n",
              "      <td>0</td>\n",
              "      <td>0</td>\n",
              "    </tr>\n",
              "    <tr>\n",
              "      <th>3</th>\n",
              "      <td>0.0</td>\n",
              "      <td>2.0</td>\n",
              "      <td>0.0</td>\n",
              "      <td>1.0</td>\n",
              "      <td>1.0</td>\n",
              "      <td>0.0</td>\n",
              "      <td>0.0</td>\n",
              "      <td>0.0</td>\n",
              "      <td>0.0</td>\n",
              "      <td>0.0</td>\n",
              "      <td>...</td>\n",
              "      <td>0</td>\n",
              "      <td>0</td>\n",
              "      <td>0</td>\n",
              "      <td>0</td>\n",
              "      <td>0</td>\n",
              "      <td>0</td>\n",
              "      <td>0</td>\n",
              "      <td>1</td>\n",
              "      <td>0</td>\n",
              "      <td>0</td>\n",
              "    </tr>\n",
              "    <tr>\n",
              "      <th>4</th>\n",
              "      <td>0.0</td>\n",
              "      <td>3.0</td>\n",
              "      <td>0.0</td>\n",
              "      <td>0.0</td>\n",
              "      <td>1.0</td>\n",
              "      <td>0.0</td>\n",
              "      <td>0.0</td>\n",
              "      <td>0.0</td>\n",
              "      <td>0.0</td>\n",
              "      <td>0.0</td>\n",
              "      <td>...</td>\n",
              "      <td>0</td>\n",
              "      <td>1</td>\n",
              "      <td>0</td>\n",
              "      <td>0</td>\n",
              "      <td>0</td>\n",
              "      <td>1</td>\n",
              "      <td>0</td>\n",
              "      <td>0</td>\n",
              "      <td>0</td>\n",
              "      <td>0</td>\n",
              "    </tr>\n",
              "  </tbody>\n",
              "</table>\n",
              "<p>5 rows × 48 columns</p>\n",
              "</div>\n",
              "      <button class=\"colab-df-convert\" onclick=\"convertToInteractive('df-579f6f0e-e11a-4936-8d24-282240bce663')\"\n",
              "              title=\"Convert this dataframe to an interactive table.\"\n",
              "              style=\"display:none;\">\n",
              "        \n",
              "  <svg xmlns=\"http://www.w3.org/2000/svg\" height=\"24px\"viewBox=\"0 0 24 24\"\n",
              "       width=\"24px\">\n",
              "    <path d=\"M0 0h24v24H0V0z\" fill=\"none\"/>\n",
              "    <path d=\"M18.56 5.44l.94 2.06.94-2.06 2.06-.94-2.06-.94-.94-2.06-.94 2.06-2.06.94zm-11 1L8.5 8.5l.94-2.06 2.06-.94-2.06-.94L8.5 2.5l-.94 2.06-2.06.94zm10 10l.94 2.06.94-2.06 2.06-.94-2.06-.94-.94-2.06-.94 2.06-2.06.94z\"/><path d=\"M17.41 7.96l-1.37-1.37c-.4-.4-.92-.59-1.43-.59-.52 0-1.04.2-1.43.59L10.3 9.45l-7.72 7.72c-.78.78-.78 2.05 0 2.83L4 21.41c.39.39.9.59 1.41.59.51 0 1.02-.2 1.41-.59l7.78-7.78 2.81-2.81c.8-.78.8-2.07 0-2.86zM5.41 20L4 18.59l7.72-7.72 1.47 1.35L5.41 20z\"/>\n",
              "  </svg>\n",
              "      </button>\n",
              "      \n",
              "  <style>\n",
              "    .colab-df-container {\n",
              "      display:flex;\n",
              "      flex-wrap:wrap;\n",
              "      gap: 12px;\n",
              "    }\n",
              "\n",
              "    .colab-df-convert {\n",
              "      background-color: #E8F0FE;\n",
              "      border: none;\n",
              "      border-radius: 50%;\n",
              "      cursor: pointer;\n",
              "      display: none;\n",
              "      fill: #1967D2;\n",
              "      height: 32px;\n",
              "      padding: 0 0 0 0;\n",
              "      width: 32px;\n",
              "    }\n",
              "\n",
              "    .colab-df-convert:hover {\n",
              "      background-color: #E2EBFA;\n",
              "      box-shadow: 0px 1px 2px rgba(60, 64, 67, 0.3), 0px 1px 3px 1px rgba(60, 64, 67, 0.15);\n",
              "      fill: #174EA6;\n",
              "    }\n",
              "\n",
              "    [theme=dark] .colab-df-convert {\n",
              "      background-color: #3B4455;\n",
              "      fill: #D2E3FC;\n",
              "    }\n",
              "\n",
              "    [theme=dark] .colab-df-convert:hover {\n",
              "      background-color: #434B5C;\n",
              "      box-shadow: 0px 1px 3px 1px rgba(0, 0, 0, 0.15);\n",
              "      filter: drop-shadow(0px 1px 2px rgba(0, 0, 0, 0.3));\n",
              "      fill: #FFFFFF;\n",
              "    }\n",
              "  </style>\n",
              "\n",
              "      <script>\n",
              "        const buttonEl =\n",
              "          document.querySelector('#df-579f6f0e-e11a-4936-8d24-282240bce663 button.colab-df-convert');\n",
              "        buttonEl.style.display =\n",
              "          google.colab.kernel.accessAllowed ? 'block' : 'none';\n",
              "\n",
              "        async function convertToInteractive(key) {\n",
              "          const element = document.querySelector('#df-579f6f0e-e11a-4936-8d24-282240bce663');\n",
              "          const dataTable =\n",
              "            await google.colab.kernel.invokeFunction('convertToInteractive',\n",
              "                                                     [key], {});\n",
              "          if (!dataTable) return;\n",
              "\n",
              "          const docLinkHtml = 'Like what you see? Visit the ' +\n",
              "            '<a target=\"_blank\" href=https://colab.research.google.com/notebooks/data_table.ipynb>data table notebook</a>'\n",
              "            + ' to learn more about interactive tables.';\n",
              "          element.innerHTML = '';\n",
              "          dataTable['output_type'] = 'display_data';\n",
              "          await google.colab.output.renderOutput(dataTable, element);\n",
              "          const docLink = document.createElement('div');\n",
              "          docLink.innerHTML = docLinkHtml;\n",
              "          element.appendChild(docLink);\n",
              "        }\n",
              "      </script>\n",
              "    </div>\n",
              "  </div>\n",
              "  "
            ]
          },
          "metadata": {},
          "execution_count": 13
        }
      ]
    },
    {
      "cell_type": "code",
      "source": [
        "# visualize outcome binary variable \n",
        "y_df.head()"
      ],
      "metadata": {
        "colab": {
          "base_uri": "https://localhost:8080/"
        },
        "id": "JM4K3noQCYvF",
        "outputId": "dcf98b67-6645-42e9-b765-ec28b119f1ae"
      },
      "execution_count": 14,
      "outputs": [
        {
          "output_type": "execute_result",
          "data": {
            "text/plain": [
              "0    0\n",
              "1    0\n",
              "2    1\n",
              "3    0\n",
              "4    0\n",
              "Name: Outcome, dtype: int64"
            ]
          },
          "metadata": {},
          "execution_count": 14
        }
      ]
    },
    {
      "cell_type": "code",
      "source": [
        "# splitting the data into a 70:30 split where we will train on 80% and test on 20%\n",
        "X_train, X_test, y_train, y_test = train_test_split(X_df, y_df, test_size=0.2, random_state=2)"
      ],
      "metadata": {
        "id": "ntsCZsRXobOo"
      },
      "execution_count": 15,
      "outputs": []
    },
    {
      "cell_type": "code",
      "source": [
        "# visualizing the shape of our split test and train variables\n",
        "X_train.shape, X_test.shape, y_train.shape, y_test.shape"
      ],
      "metadata": {
        "colab": {
          "base_uri": "https://localhost:8080/"
        },
        "id": "jOozJDTlCz2y",
        "outputId": "354584c7-4ab2-47f4-9a42-e4e635a79709"
      },
      "execution_count": 16,
      "outputs": [
        {
          "output_type": "execute_result",
          "data": {
            "text/plain": [
              "((40829, 48), (10208, 48), (40829,), (10208,))"
            ]
          },
          "metadata": {},
          "execution_count": 16
        }
      ]
    },
    {
      "cell_type": "code",
      "source": [
        "# showing the results of the split\n",
        "print(\"Training set has {} samples.\".format(X_train.shape[0]))\n",
        "print(\"Testing set has {} samples.\".format(X_test.shape[0]))"
      ],
      "metadata": {
        "colab": {
          "base_uri": "https://localhost:8080/"
        },
        "id": "mdHuLYv1Ch_c",
        "outputId": "655cc150-6d07-44f5-cb53-3b6873fc7e41"
      },
      "execution_count": 17,
      "outputs": [
        {
          "output_type": "stream",
          "name": "stdout",
          "text": [
            "Training set has 40829 samples.\n",
            "Testing set has 10208 samples.\n"
          ]
        }
      ]
    },
    {
      "cell_type": "code",
      "source": [
        "# visualizing the X_test data\n",
        "X_test.head()"
      ],
      "metadata": {
        "id": "H3H7XhTCo8rv",
        "colab": {
          "base_uri": "https://localhost:8080/",
          "height": 314
        },
        "outputId": "9c4d0600-d2f0-48aa-ed0f-3bf8da72d820"
      },
      "execution_count": 18,
      "outputs": [
        {
          "output_type": "execute_result",
          "data": {
            "text/plain": [
              "       blood  circulatory  congenital  digestive  endocrine  genitourinary  \\\n",
              "14992    0.0          4.0         0.0        0.0        1.0            2.0   \n",
              "50568    1.0          1.0         0.0        1.0        2.0            1.0   \n",
              "13732    0.0          0.0         1.0        0.0        0.0            0.0   \n",
              "2651     1.0          1.0         0.0        2.0        3.0            1.0   \n",
              "39998    1.0          7.0         0.0        0.0        1.0            0.0   \n",
              "\n",
              "       infectious  injury  mental  misc  ...  AGE_newborn  AGE_senior  \\\n",
              "14992         1.0     0.0     0.0   0.0  ...            0           1   \n",
              "50568         1.0     1.0     1.0   0.0  ...            0           1   \n",
              "13732         0.0     3.0     0.0   0.0  ...            1           0   \n",
              "2651          1.0     2.0     5.0   2.0  ...            0           0   \n",
              "39998         0.0     1.0     0.0   0.0  ...            0           1   \n",
              "\n",
              "       AGE_young_adult  MAR_DIVORCED  MAR_LIFE PARTNER  MAR_MARRIED  \\\n",
              "14992                0             0                 0            0   \n",
              "50568                0             1                 0            0   \n",
              "13732                0             0                 0            0   \n",
              "2651                 0             0                 0            0   \n",
              "39998                0             0                 0            1   \n",
              "\n",
              "       MAR_SEPARATED  MAR_SINGLE  MAR_UNKNOWN (DEFAULT)  MAR_WIDOWED  \n",
              "14992              0           1                      0            0  \n",
              "50568              0           0                      0            0  \n",
              "13732              0           0                      1            0  \n",
              "2651               0           1                      0            0  \n",
              "39998              0           0                      0            0  \n",
              "\n",
              "[5 rows x 48 columns]"
            ],
            "text/html": [
              "\n",
              "  <div id=\"df-eaf084f1-706a-43b0-8f35-99ba20d6aba1\">\n",
              "    <div class=\"colab-df-container\">\n",
              "      <div>\n",
              "<style scoped>\n",
              "    .dataframe tbody tr th:only-of-type {\n",
              "        vertical-align: middle;\n",
              "    }\n",
              "\n",
              "    .dataframe tbody tr th {\n",
              "        vertical-align: top;\n",
              "    }\n",
              "\n",
              "    .dataframe thead th {\n",
              "        text-align: right;\n",
              "    }\n",
              "</style>\n",
              "<table border=\"1\" class=\"dataframe\">\n",
              "  <thead>\n",
              "    <tr style=\"text-align: right;\">\n",
              "      <th></th>\n",
              "      <th>blood</th>\n",
              "      <th>circulatory</th>\n",
              "      <th>congenital</th>\n",
              "      <th>digestive</th>\n",
              "      <th>endocrine</th>\n",
              "      <th>genitourinary</th>\n",
              "      <th>infectious</th>\n",
              "      <th>injury</th>\n",
              "      <th>mental</th>\n",
              "      <th>misc</th>\n",
              "      <th>...</th>\n",
              "      <th>AGE_newborn</th>\n",
              "      <th>AGE_senior</th>\n",
              "      <th>AGE_young_adult</th>\n",
              "      <th>MAR_DIVORCED</th>\n",
              "      <th>MAR_LIFE PARTNER</th>\n",
              "      <th>MAR_MARRIED</th>\n",
              "      <th>MAR_SEPARATED</th>\n",
              "      <th>MAR_SINGLE</th>\n",
              "      <th>MAR_UNKNOWN (DEFAULT)</th>\n",
              "      <th>MAR_WIDOWED</th>\n",
              "    </tr>\n",
              "  </thead>\n",
              "  <tbody>\n",
              "    <tr>\n",
              "      <th>14992</th>\n",
              "      <td>0.0</td>\n",
              "      <td>4.0</td>\n",
              "      <td>0.0</td>\n",
              "      <td>0.0</td>\n",
              "      <td>1.0</td>\n",
              "      <td>2.0</td>\n",
              "      <td>1.0</td>\n",
              "      <td>0.0</td>\n",
              "      <td>0.0</td>\n",
              "      <td>0.0</td>\n",
              "      <td>...</td>\n",
              "      <td>0</td>\n",
              "      <td>1</td>\n",
              "      <td>0</td>\n",
              "      <td>0</td>\n",
              "      <td>0</td>\n",
              "      <td>0</td>\n",
              "      <td>0</td>\n",
              "      <td>1</td>\n",
              "      <td>0</td>\n",
              "      <td>0</td>\n",
              "    </tr>\n",
              "    <tr>\n",
              "      <th>50568</th>\n",
              "      <td>1.0</td>\n",
              "      <td>1.0</td>\n",
              "      <td>0.0</td>\n",
              "      <td>1.0</td>\n",
              "      <td>2.0</td>\n",
              "      <td>1.0</td>\n",
              "      <td>1.0</td>\n",
              "      <td>1.0</td>\n",
              "      <td>1.0</td>\n",
              "      <td>0.0</td>\n",
              "      <td>...</td>\n",
              "      <td>0</td>\n",
              "      <td>1</td>\n",
              "      <td>0</td>\n",
              "      <td>1</td>\n",
              "      <td>0</td>\n",
              "      <td>0</td>\n",
              "      <td>0</td>\n",
              "      <td>0</td>\n",
              "      <td>0</td>\n",
              "      <td>0</td>\n",
              "    </tr>\n",
              "    <tr>\n",
              "      <th>13732</th>\n",
              "      <td>0.0</td>\n",
              "      <td>0.0</td>\n",
              "      <td>1.0</td>\n",
              "      <td>0.0</td>\n",
              "      <td>0.0</td>\n",
              "      <td>0.0</td>\n",
              "      <td>0.0</td>\n",
              "      <td>3.0</td>\n",
              "      <td>0.0</td>\n",
              "      <td>0.0</td>\n",
              "      <td>...</td>\n",
              "      <td>1</td>\n",
              "      <td>0</td>\n",
              "      <td>0</td>\n",
              "      <td>0</td>\n",
              "      <td>0</td>\n",
              "      <td>0</td>\n",
              "      <td>0</td>\n",
              "      <td>0</td>\n",
              "      <td>1</td>\n",
              "      <td>0</td>\n",
              "    </tr>\n",
              "    <tr>\n",
              "      <th>2651</th>\n",
              "      <td>1.0</td>\n",
              "      <td>1.0</td>\n",
              "      <td>0.0</td>\n",
              "      <td>2.0</td>\n",
              "      <td>3.0</td>\n",
              "      <td>1.0</td>\n",
              "      <td>1.0</td>\n",
              "      <td>2.0</td>\n",
              "      <td>5.0</td>\n",
              "      <td>2.0</td>\n",
              "      <td>...</td>\n",
              "      <td>0</td>\n",
              "      <td>0</td>\n",
              "      <td>0</td>\n",
              "      <td>0</td>\n",
              "      <td>0</td>\n",
              "      <td>0</td>\n",
              "      <td>0</td>\n",
              "      <td>1</td>\n",
              "      <td>0</td>\n",
              "      <td>0</td>\n",
              "    </tr>\n",
              "    <tr>\n",
              "      <th>39998</th>\n",
              "      <td>1.0</td>\n",
              "      <td>7.0</td>\n",
              "      <td>0.0</td>\n",
              "      <td>0.0</td>\n",
              "      <td>1.0</td>\n",
              "      <td>0.0</td>\n",
              "      <td>0.0</td>\n",
              "      <td>1.0</td>\n",
              "      <td>0.0</td>\n",
              "      <td>0.0</td>\n",
              "      <td>...</td>\n",
              "      <td>0</td>\n",
              "      <td>1</td>\n",
              "      <td>0</td>\n",
              "      <td>0</td>\n",
              "      <td>0</td>\n",
              "      <td>1</td>\n",
              "      <td>0</td>\n",
              "      <td>0</td>\n",
              "      <td>0</td>\n",
              "      <td>0</td>\n",
              "    </tr>\n",
              "  </tbody>\n",
              "</table>\n",
              "<p>5 rows × 48 columns</p>\n",
              "</div>\n",
              "      <button class=\"colab-df-convert\" onclick=\"convertToInteractive('df-eaf084f1-706a-43b0-8f35-99ba20d6aba1')\"\n",
              "              title=\"Convert this dataframe to an interactive table.\"\n",
              "              style=\"display:none;\">\n",
              "        \n",
              "  <svg xmlns=\"http://www.w3.org/2000/svg\" height=\"24px\"viewBox=\"0 0 24 24\"\n",
              "       width=\"24px\">\n",
              "    <path d=\"M0 0h24v24H0V0z\" fill=\"none\"/>\n",
              "    <path d=\"M18.56 5.44l.94 2.06.94-2.06 2.06-.94-2.06-.94-.94-2.06-.94 2.06-2.06.94zm-11 1L8.5 8.5l.94-2.06 2.06-.94-2.06-.94L8.5 2.5l-.94 2.06-2.06.94zm10 10l.94 2.06.94-2.06 2.06-.94-2.06-.94-.94-2.06-.94 2.06-2.06.94z\"/><path d=\"M17.41 7.96l-1.37-1.37c-.4-.4-.92-.59-1.43-.59-.52 0-1.04.2-1.43.59L10.3 9.45l-7.72 7.72c-.78.78-.78 2.05 0 2.83L4 21.41c.39.39.9.59 1.41.59.51 0 1.02-.2 1.41-.59l7.78-7.78 2.81-2.81c.8-.78.8-2.07 0-2.86zM5.41 20L4 18.59l7.72-7.72 1.47 1.35L5.41 20z\"/>\n",
              "  </svg>\n",
              "      </button>\n",
              "      \n",
              "  <style>\n",
              "    .colab-df-container {\n",
              "      display:flex;\n",
              "      flex-wrap:wrap;\n",
              "      gap: 12px;\n",
              "    }\n",
              "\n",
              "    .colab-df-convert {\n",
              "      background-color: #E8F0FE;\n",
              "      border: none;\n",
              "      border-radius: 50%;\n",
              "      cursor: pointer;\n",
              "      display: none;\n",
              "      fill: #1967D2;\n",
              "      height: 32px;\n",
              "      padding: 0 0 0 0;\n",
              "      width: 32px;\n",
              "    }\n",
              "\n",
              "    .colab-df-convert:hover {\n",
              "      background-color: #E2EBFA;\n",
              "      box-shadow: 0px 1px 2px rgba(60, 64, 67, 0.3), 0px 1px 3px 1px rgba(60, 64, 67, 0.15);\n",
              "      fill: #174EA6;\n",
              "    }\n",
              "\n",
              "    [theme=dark] .colab-df-convert {\n",
              "      background-color: #3B4455;\n",
              "      fill: #D2E3FC;\n",
              "    }\n",
              "\n",
              "    [theme=dark] .colab-df-convert:hover {\n",
              "      background-color: #434B5C;\n",
              "      box-shadow: 0px 1px 3px 1px rgba(0, 0, 0, 0.15);\n",
              "      filter: drop-shadow(0px 1px 2px rgba(0, 0, 0, 0.3));\n",
              "      fill: #FFFFFF;\n",
              "    }\n",
              "  </style>\n",
              "\n",
              "      <script>\n",
              "        const buttonEl =\n",
              "          document.querySelector('#df-eaf084f1-706a-43b0-8f35-99ba20d6aba1 button.colab-df-convert');\n",
              "        buttonEl.style.display =\n",
              "          google.colab.kernel.accessAllowed ? 'block' : 'none';\n",
              "\n",
              "        async function convertToInteractive(key) {\n",
              "          const element = document.querySelector('#df-eaf084f1-706a-43b0-8f35-99ba20d6aba1');\n",
              "          const dataTable =\n",
              "            await google.colab.kernel.invokeFunction('convertToInteractive',\n",
              "                                                     [key], {});\n",
              "          if (!dataTable) return;\n",
              "\n",
              "          const docLinkHtml = 'Like what you see? Visit the ' +\n",
              "            '<a target=\"_blank\" href=https://colab.research.google.com/notebooks/data_table.ipynb>data table notebook</a>'\n",
              "            + ' to learn more about interactive tables.';\n",
              "          element.innerHTML = '';\n",
              "          dataTable['output_type'] = 'display_data';\n",
              "          await google.colab.output.renderOutput(dataTable, element);\n",
              "          const docLink = document.createElement('div');\n",
              "          docLink.innerHTML = docLinkHtml;\n",
              "          element.appendChild(docLink);\n",
              "        }\n",
              "      </script>\n",
              "    </div>\n",
              "  </div>\n",
              "  "
            ]
          },
          "metadata": {},
          "execution_count": 18
        }
      ]
    },
    {
      "cell_type": "code",
      "source": [
        "# visualizing the y_test data\n",
        "y_test.head()"
      ],
      "metadata": {
        "colab": {
          "base_uri": "https://localhost:8080/"
        },
        "id": "a02xMxPrC9Q8",
        "outputId": "6de690e1-d977-47e1-c630-6d3ff8feedaf"
      },
      "execution_count": 19,
      "outputs": [
        {
          "output_type": "execute_result",
          "data": {
            "text/plain": [
              "14992    1\n",
              "50568    1\n",
              "13732    1\n",
              "2651     1\n",
              "39998    0\n",
              "Name: Outcome, dtype: int64"
            ]
          },
          "metadata": {},
          "execution_count": 19
        }
      ]
    },
    {
      "cell_type": "code",
      "source": [
        "# getting the count of y_train and y_test sets \n",
        "Counter(y_train), Counter(y_test)"
      ],
      "metadata": {
        "colab": {
          "base_uri": "https://localhost:8080/"
        },
        "id": "YUzf1tWRDAn4",
        "outputId": "f1d39c8f-8176-49f4-d04b-d818075d6914"
      },
      "execution_count": 20,
      "outputs": [
        {
          "output_type": "execute_result",
          "data": {
            "text/plain": [
              "(Counter({1: 21947, 0: 18882}), Counter({1: 5595, 0: 4613}))"
            ]
          },
          "metadata": {},
          "execution_count": 20
        }
      ]
    },
    {
      "cell_type": "markdown",
      "source": [
        "4. Fit a Logistic Regression model on the training set and output evaluation metrics (precision, recall and f1-score) for prediction on the test set. Also, print the classification report for predictions on the test set.\n"
      ],
      "metadata": {
        "id": "FPiSgKZuK3k0"
      }
    },
    {
      "cell_type": "code",
      "source": [
        "# fit the model using logistic regression with a max iteration of 500\n",
        "model = LogisticRegression(max_iter=500)\n",
        "model.fit(X_train, y_train)"
      ],
      "metadata": {
        "colab": {
          "base_uri": "https://localhost:8080/"
        },
        "id": "-deRDRJwEmA_",
        "outputId": "138bea08-4485-4fa0-df6f-2af1f35e7bda"
      },
      "execution_count": 21,
      "outputs": [
        {
          "output_type": "execute_result",
          "data": {
            "text/plain": [
              "LogisticRegression(max_iter=500)"
            ]
          },
          "metadata": {},
          "execution_count": 21
        }
      ]
    },
    {
      "cell_type": "code",
      "source": [
        "# generating predictions of outcome (0,1) on the test set and assigning to new variable y_pred \n",
        "y_pred = model.predict(X_test)\n",
        "y_pred"
      ],
      "metadata": {
        "colab": {
          "base_uri": "https://localhost:8080/"
        },
        "id": "dlsUaVStEudV",
        "outputId": "b4246ec0-d052-4a86-98e5-9c45728f8e00"
      },
      "execution_count": 22,
      "outputs": [
        {
          "output_type": "execute_result",
          "data": {
            "text/plain": [
              "array([1, 1, 1, ..., 1, 0, 1])"
            ]
          },
          "metadata": {},
          "execution_count": 22
        }
      ]
    },
    {
      "cell_type": "code",
      "source": [
        "# generating probabilities on test set \n",
        "y_pred_prob = model.predict_proba(X_test)\n",
        "y_pred_prob"
      ],
      "metadata": {
        "colab": {
          "base_uri": "https://localhost:8080/"
        },
        "id": "feX0XhkuEvq7",
        "outputId": "69b735a4-c09a-47e1-be3d-4a8064444d8f"
      },
      "execution_count": 23,
      "outputs": [
        {
          "output_type": "execute_result",
          "data": {
            "text/plain": [
              "array([[0.3947656 , 0.6052344 ],\n",
              "       [0.18405369, 0.81594631],\n",
              "       [0.00603127, 0.99396873],\n",
              "       ...,\n",
              "       [0.32897019, 0.67102981],\n",
              "       [0.71995281, 0.28004719],\n",
              "       [0.23087978, 0.76912022]])"
            ]
          },
          "metadata": {},
          "execution_count": 23
        }
      ]
    },
    {
      "cell_type": "code",
      "source": [
        "# plotting the generated probabilities from above \n",
        "plt.hist(y_pred_prob[:,1])"
      ],
      "metadata": {
        "colab": {
          "base_uri": "https://localhost:8080/",
          "height": 696
        },
        "id": "hTaDZZy8E3Du",
        "outputId": "780b5313-ae49-4230-c275-61b939a7538a"
      },
      "execution_count": 24,
      "outputs": [
        {
          "output_type": "execute_result",
          "data": {
            "text/plain": [
              "(array([ 664.,  250.,  681., 1366., 1508., 1512., 1353., 1162.,  947.,\n",
              "         765.]),\n",
              " array([0.01059146, 0.10953185, 0.20847224, 0.30741264, 0.40635303,\n",
              "        0.50529342, 0.60423381, 0.70317421, 0.8021146 , 0.90105499,\n",
              "        0.99999538]),\n",
              " <a list of 10 Patch objects>)"
            ]
          },
          "metadata": {},
          "execution_count": 24
        },
        {
          "output_type": "display_data",
          "data": {
            "text/plain": [
              "<Figure size 720x720 with 1 Axes>"
            ],
            "image/png": "[encoded data removed]"
          },
          "metadata": {}
        }
      ]
    },
    {
      "cell_type": "code",
      "source": [
        "# plotting a confusion matrix to visualize true positive, true negative, false positive, and false negative values \n",
        "cm = confusion_matrix(y_test, y_pred)\n",
        "cm"
      ],
      "metadata": {
        "colab": {
          "base_uri": "https://localhost:8080/"
        },
        "id": "88umY6UhFGzX",
        "outputId": "46c6387e-2c8e-486f-959e-a9e7a5d9d88a"
      },
      "execution_count": 25,
      "outputs": [
        {
          "output_type": "execute_result",
          "data": {
            "text/plain": [
              "array([[2958, 1655],\n",
              "       [1442, 4153]])"
            ]
          },
          "metadata": {},
          "execution_count": 25
        }
      ]
    },
    {
      "cell_type": "code",
      "source": [
        "plot_confusion_matrix(conf_mat=cm, show_absolute=True)"
      ],
      "metadata": {
        "colab": {
          "base_uri": "https://localhost:8080/",
          "height": 645
        },
        "id": "EIpUPnq5Fio2",
        "outputId": "1f5b5f01-3f44-47f5-d934-02cfa526e223"
      },
      "execution_count": 26,
      "outputs": [
        {
          "output_type": "execute_result",
          "data": {
            "text/plain": [
              "(<Figure size 720x720 with 1 Axes>,\n",
              " <matplotlib.axes._subplots.AxesSubplot at 0x7f5062bc5eb0>)"
            ]
          },
          "metadata": {},
          "execution_count": 26
        },
        {
          "output_type": "display_data",
          "data": {
            "text/plain": [
              "<Figure size 720x720 with 1 Axes>"
            ],
            "image/png": "[encoded data removed]"
          },
          "metadata": {}
        }
      ]
    },
    {
      "cell_type": "code",
      "source": [
        "# using the confusion matrix function to extract the different types of errors\n",
        "tn, fp, fn, tp = confusion_matrix(y_test, y_pred).ravel()\n",
        "tn, fp, fn, tp"
      ],
      "metadata": {
        "colab": {
          "base_uri": "https://localhost:8080/"
        },
        "id": "OKVeutv2Fk_3",
        "outputId": "cacb428a-4c21-4183-9dad-b43c7c947d7e"
      },
      "execution_count": 27,
      "outputs": [
        {
          "output_type": "execute_result",
          "data": {
            "text/plain": [
              "(2958, 1655, 1442, 4153)"
            ]
          },
          "metadata": {},
          "execution_count": 27
        }
      ]
    },
    {
      "cell_type": "code",
      "source": [
        "# generating metrics on our model \n",
        "#Accuracy \n",
        "accuracy = (tp+tn)/(tp+tn+fp+fn)\n",
        "print('Accuracy: %.3f' % accuracy)\n",
        "\n",
        "#Recall/Sensitivity/True Positive rate\n",
        "recall = sensitivity = tpr = tp / (tp + fn)\n",
        "print('Recall: %.3f' % recall)\n",
        "\n",
        "#Precision\n",
        "precision = tp / (tp + fp)\n",
        "print('Precision: %.3f' % precision)\n",
        "\n",
        "#Specificity/Negative Recall/ True negative Rate/ 1-False Positive Rate\n",
        "specificity = tn / (tn + fp)\n",
        "print('Specificity: %.3f' % specificity)\n",
        "\n",
        "#F1 Score\n",
        "f1 = 2*(precision*recall)/(precision+recall)\n",
        "print('F1: %.3f' % f1)"
      ],
      "metadata": {
        "colab": {
          "base_uri": "https://localhost:8080/"
        },
        "id": "iPBIn0K_Fqlo",
        "outputId": "36f04681-7ad7-4f30-8f53-550089fc4eb9"
      },
      "execution_count": 28,
      "outputs": [
        {
          "output_type": "stream",
          "name": "stdout",
          "text": [
            "Accuracy: 0.697\n",
            "Recall: 0.742\n",
            "Precision: 0.715\n",
            "Specificity: 0.641\n",
            "F1: 0.728\n"
          ]
        }
      ]
    },
    {
      "cell_type": "code",
      "source": [
        "# metrics using y_test, y_pred (predicted outcome values)\n",
        "#Accuracy\n",
        "accuracy = accuracy_score(y_test, y_pred)\n",
        "print('Accuracy: %.3f' % accuracy)\n",
        "\n",
        "#Recall\n",
        "recall = recall_score(y_test, y_pred)\n",
        "print('Recall: %.3f' % recall)\n",
        "\n",
        "#Precision\n",
        "precision = precision_score(y_test, y_pred)\n",
        "print('Precision: %.3f' % precision)\n",
        "\n",
        "#The f1-score is the harmonic mean of precision and recall\n",
        "f1 = f1_score(y_test, y_pred)\n",
        "print('F1: %.3f' % f1)"
      ],
      "metadata": {
        "colab": {
          "base_uri": "https://localhost:8080/"
        },
        "id": "qf0RgiUPGghF",
        "outputId": "00b28f27-ef66-4f93-f2cd-0de27137c8e9"
      },
      "execution_count": 29,
      "outputs": [
        {
          "output_type": "stream",
          "name": "stdout",
          "text": [
            "Accuracy: 0.697\n",
            "Recall: 0.742\n",
            "Precision: 0.715\n",
            "F1: 0.728\n"
          ]
        }
      ]
    },
    {
      "cell_type": "code",
      "source": [
        "#Function that calculates and print metrics\n",
        "def show_metrics(y_test, y_pred):\n",
        "  print('====================')\n",
        "  accuracy = accuracy_score(y_test, y_pred)\n",
        "  print('Accuracy: %.3f' % accuracy)\n",
        "  recall = recall_score(y_test, y_pred)\n",
        "  print('Recall: %.3f' % recall)\n",
        "  precision = precision_score(y_test, y_pred)\n",
        "  print('Precision: %.3f' % precision)\n",
        "  f1 = f1_score(y_test, y_pred)\n",
        "  print('F1: %.3f' % f1)\n",
        "  print('====================')"
      ],
      "metadata": {
        "id": "MtMsZHJEGsB-"
      },
      "execution_count": 30,
      "outputs": []
    },
    {
      "cell_type": "code",
      "source": [
        "# printing metrics using function above and applying on y_test and y_pred\n",
        "show_metrics(y_test, y_pred)"
      ],
      "metadata": {
        "colab": {
          "base_uri": "https://localhost:8080/"
        },
        "id": "KO_IXfqkGtJF",
        "outputId": "6cbdb0ff-03dd-48cd-db17-82fd587cefa5"
      },
      "execution_count": 31,
      "outputs": [
        {
          "output_type": "stream",
          "name": "stdout",
          "text": [
            "====================\n",
            "Accuracy: 0.697\n",
            "Recall: 0.742\n",
            "Precision: 0.715\n",
            "F1: 0.728\n",
            "====================\n"
          ]
        }
      ]
    },
    {
      "cell_type": "code",
      "source": [
        "#Function that returns predictions at a specific threshold\n",
        "def get_predictions(y_pred_prob, threshold=0.5):\n",
        "  predictions = np.where(y_pred_prob <= threshold, 0, 1)\n",
        "  return predictions[:,1]"
      ],
      "metadata": {
        "id": "rlyNaufcG0Rn"
      },
      "execution_count": 32,
      "outputs": []
    },
    {
      "cell_type": "code",
      "source": [
        "# preforming metrics with an increased threshold to decrease false positives, howevere false negatives will increase resulting in higher precision and a lower recall value\n",
        "y_pred1 = get_predictions(y_pred_prob, 0.7)\n",
        "show_metrics(y_test, y_pred1)"
      ],
      "metadata": {
        "colab": {
          "base_uri": "https://localhost:8080/"
        },
        "id": "bLhE8ozhG2Et",
        "outputId": "ba149b6b-40f3-4942-eae9-f9495c7d4d12"
      },
      "execution_count": 33,
      "outputs": [
        {
          "output_type": "stream",
          "name": "stdout",
          "text": [
            "====================\n",
            "Accuracy: 0.632\n",
            "Recall: 0.424\n",
            "Precision: 0.817\n",
            "F1: 0.558\n",
            "====================\n"
          ]
        }
      ]
    },
    {
      "cell_type": "code",
      "source": [
        "# decreased thershold that increases false positives and decreases false negatives resulting in decreased precision and increased recall\n",
        "y_pred2 = get_predictions(y_pred_prob, 0.3)\n",
        "show_metrics(y_test, y_pred2)\n",
        "# metrics are significantly increased when threshold is lower"
      ],
      "metadata": {
        "colab": {
          "base_uri": "https://localhost:8080/"
        },
        "id": "Tf9j_K5ZG7gU",
        "outputId": "a3dfdc26-221b-42f9-a3ed-3151c877ad71"
      },
      "execution_count": 35,
      "outputs": [
        {
          "output_type": "stream",
          "name": "stdout",
          "text": [
            "====================\n",
            "Accuracy: 0.659\n",
            "Recall: 0.965\n",
            "Precision: 0.622\n",
            "F1: 0.756\n",
            "====================\n"
          ]
        }
      ]
    },
    {
      "cell_type": "code",
      "source": [
        "#AUROC = Area Under the Receiver Operating Characteristic curve\n",
        "roc_auc = roc_auc_score(y_test, y_pred_prob[:,1])\n",
        "print('AUCROC: %.3f' % roc_auc) # AUCROC Curve = 0.773 which is above the threshold of 0.5 (random guessing)"
      ],
      "metadata": {
        "colab": {
          "base_uri": "https://localhost:8080/"
        },
        "id": "p0ycKDcsHBOx",
        "outputId": "6d4f2591-9e2b-464e-8464-93292caf901a"
      },
      "execution_count": 36,
      "outputs": [
        {
          "output_type": "stream",
          "name": "stdout",
          "text": [
            "AUCROC: 0.773\n"
          ]
        }
      ]
    },
    {
      "cell_type": "code",
      "source": [
        "# generating true positive rate and false positive rate \n",
        "fpr, tpr, thresholds = roc_curve(y_test, y_pred_prob[:,1])\n",
        "y_pred_prob[:,1]\n",
        "len(np.unique(y_pred_prob[:,1]))"
      ],
      "metadata": {
        "colab": {
          "base_uri": "https://localhost:8080/"
        },
        "id": "Y_fC94AqH7yj",
        "outputId": "a94fef45-55a0-447a-e2a7-d59dee57d902"
      },
      "execution_count": 37,
      "outputs": [
        {
          "output_type": "execute_result",
          "data": {
            "text/plain": [
              "9549"
            ]
          },
          "metadata": {},
          "execution_count": 37
        }
      ]
    },
    {
      "cell_type": "code",
      "source": [
        "# shape of test with thresholds\n",
        "y_test.shape, thresholds.shape"
      ],
      "metadata": {
        "colab": {
          "base_uri": "https://localhost:8080/"
        },
        "id": "Wf6ji96IIMeG",
        "outputId": "7f6e54d9-ad84-41f5-e183-f0c5cdc6e951"
      },
      "execution_count": 38,
      "outputs": [
        {
          "output_type": "execute_result",
          "data": {
            "text/plain": [
              "((10208,), (4121,))"
            ]
          },
          "metadata": {},
          "execution_count": 38
        }
      ]
    },
    {
      "cell_type": "code",
      "source": [
        "# plotting ROC curve using function \n",
        "pd.DataFrame([fpr,tpr,thresholds]).T\n",
        "\n",
        "#Function to plot ROC curve  \n",
        "def plot_roc(y_test, predictions, title):\n",
        "    fpr, tpr, thresholds = roc_curve(y_test, predictions, drop_intermediate=False)\n",
        "    roc_auc = auc(fpr, tpr)  \n",
        "    print('AUROC: %.3f' % roc_auc)\n",
        "    plt.plot(fpr, tpr, label='ROC curve (area = %0.2f)' % roc_auc)\n",
        "    plt.plot([0, 1], [0, 1], '--')\n",
        "    plt.xlim([0.0, 1.05])\n",
        "    plt.ylim([0.0, 1.05])\n",
        "    plt.xlabel('False Positive Rate')\n",
        "    plt.ylabel('True Positive Rate')\n",
        "    plt.title(title)\n",
        "    plt.legend(loc=\"lower right\")\n",
        "    plt.show()\n",
        "\n",
        "# plotting perfect classifier, random guessing, and logistic regression \n",
        "plot_roc(y_test, y_test,\"Perfect Classifier\")\n",
        "plot_roc(y_test, np.random.uniform(0, 1, len(y_test)) ,\"Random Guessing\")\n",
        "plot_roc(y_test ,y_pred_prob[:,1], \"Logistic Regression\")"
      ],
      "metadata": {
        "colab": {
          "base_uri": "https://localhost:8080/",
          "height": 1000
        },
        "id": "wYB06lXHIPlE",
        "outputId": "e67fe86f-c395-4a4d-be9c-c298ad15c068"
      },
      "execution_count": 39,
      "outputs": [
        {
          "output_type": "stream",
          "name": "stdout",
          "text": [
            "AUROC: 1.000\n"
          ]
        },
        {
          "output_type": "display_data",
          "data": {
            "text/plain": [
              "<Figure size 720x720 with 1 Axes>"
            ],
            "image/png": "[encoded data removed]"
          },
          "metadata": {}
        },
        {
          "output_type": "stream",
          "name": "stdout",
          "text": [
            "AUROC: 0.501\n"
          ]
        },
        {
          "output_type": "display_data",
          "data": {
            "text/plain": [
              "<Figure size 720x720 with 1 Axes>"
            ],
            "image/png": "[encoded data removed]"
          },
          "metadata": {}
        },
        {
          "output_type": "stream",
          "name": "stdout",
          "text": [
            "AUROC: 0.773\n"
          ]
        },
        {
          "output_type": "display_data",
          "data": {
            "text/plain": [
              "<Figure size 720x720 with 1 Axes>"
            ],
            "image/png": "[encoded data removed]"
          },
          "metadata": {}
        }
      ]
    },
    {
      "cell_type": "code",
      "source": [
        "# full classification report of test set and predcitions \n",
        "print(classification_report(y_test, y_pred))"
      ],
      "metadata": {
        "colab": {
          "base_uri": "https://localhost:8080/"
        },
        "id": "E33-nKonIlbo",
        "outputId": "2d7f181d-86a4-430d-eb60-a34520f8010d"
      },
      "execution_count": 40,
      "outputs": [
        {
          "output_type": "stream",
          "name": "stdout",
          "text": [
            "              precision    recall  f1-score   support\n",
            "\n",
            "           0       0.67      0.64      0.66      4613\n",
            "           1       0.72      0.74      0.73      5595\n",
            "\n",
            "    accuracy                           0.70     10208\n",
            "   macro avg       0.69      0.69      0.69     10208\n",
            "weighted avg       0.70      0.70      0.70     10208\n",
            "\n"
          ]
        }
      ]
    },
    {
      "cell_type": "markdown",
      "source": [
        "5. Fit one other classifier (Random Forest Classifier or Support Vector Machine) and repeat step 4. Did the performance on the test set improve?\n",
        "\n",
        "  With Random forest, precision of predicting y=0 increased from 67% (logistic regression) to 70% and recall decreased from 64% to 62% (see result below). Overall performance of the model using random forest classification to predict length of stay > 6 days (y=1) also did not change significantly between the logistic regression model and random forest model. Additionally, when comparing AUCROC curves for each model, both random forest and logistic regression produced an AUCROC curve of 0.77 which is above the threshold for random guessing (0.5). \n",
        "\n",
        "6. Output a feature importance/ranking using any tree based classifier on the training set. Hint : refer to Feature Importance using Tree-Based Classifiers section in lab 3 3_classification_solved.ipynb notebook.\n",
        "\n",
        "  Prenatal, injury, circulatory, respiratory features showed the most importance when using the tree-based classifier."
      ],
      "metadata": {
        "id": "iVcmX4RIK8mX"
      }
    },
    {
      "cell_type": "code",
      "source": [
        "# fitting the model using Random Forest\n",
        "\n",
        "model = RandomForestClassifier(n_estimators=100)\n",
        "\n",
        "model.fit(X_train, y_train)\n",
        "\n",
        "# prediction\n",
        "predictions_proba = model.predict_proba(X_test)\n",
        "predictions = model.predict(X_test)\n",
        "\n",
        "\n",
        "# getting the confusion matrix \n",
        "cm = confusion_matrix(y_test,predictions)\n",
        "plot_confusion_matrix(conf_mat=cm, show_absolute=True)\n",
        "plt.show()\n",
        "\n",
        "# printing the classification report\n",
        "print(classification_report(y_test, predictions))\n",
        "\n",
        "# getting the metrics\n",
        "show_metrics(y_test, predictions)\n",
        "\n",
        "# computing and print AUC-ROC Curve\n",
        "roc_auc = roc_auc_score(y_test, predictions_proba[:,1])\n",
        "print('AUCROC: %.3f' % roc_auc)"
      ],
      "metadata": {
        "colab": {
          "base_uri": "https://localhost:8080/",
          "height": 883
        },
        "id": "tBc3DqcMK_Pz",
        "outputId": "2efc3a23-ed6b-4c78-95f6-011ebd507622"
      },
      "execution_count": 41,
      "outputs": [
        {
          "output_type": "display_data",
          "data": {
            "text/plain": [
              "<Figure size 720x720 with 1 Axes>"
            ],
            "image/png": "[encoded data removed]"
          },
          "metadata": {}
        },
        {
          "output_type": "stream",
          "name": "stdout",
          "text": [
            "              precision    recall  f1-score   support\n",
            "\n",
            "           0       0.70      0.62      0.65      4613\n",
            "           1       0.71      0.78      0.74      5595\n",
            "\n",
            "    accuracy                           0.71     10208\n",
            "   macro avg       0.71      0.70      0.70     10208\n",
            "weighted avg       0.71      0.71      0.70     10208\n",
            "\n",
            "====================\n",
            "Accuracy: 0.706\n",
            "Recall: 0.781\n",
            "Precision: 0.711\n",
            "F1: 0.745\n",
            "====================\n",
            "AUCROC: 0.775\n"
          ]
        }
      ]
    },
    {
      "cell_type": "code",
      "source": [
        "# xgboost import\n",
        "import xgboost as xgb\n",
        "from xgboost import XGBClassifier\n",
        "from xgboost import plot_importance"
      ],
      "metadata": {
        "id": "gqtulqyTLn-H"
      },
      "execution_count": 44,
      "outputs": []
    },
    {
      "cell_type": "code",
      "source": [
        "# fit model no training data\n",
        "model = XGBClassifier()\n",
        "model.fit(X_train, y_train)"
      ],
      "metadata": {
        "colab": {
          "base_uri": "https://localhost:8080/"
        },
        "id": "Y5HhvoHWMEAJ",
        "outputId": "b24f7192-fa46-47fc-c2d1-ee12cd2b450f"
      },
      "execution_count": 43,
      "outputs": [
        {
          "output_type": "execute_result",
          "data": {
            "text/plain": [
              "XGBClassifier()"
            ]
          },
          "metadata": {},
          "execution_count": 43
        }
      ]
    },
    {
      "cell_type": "code",
      "source": [
        "# plot feature importance\n",
        "fig, ax = plt.subplots(figsize=(10, 10))\n",
        "plot_importance(model, ax=ax)\n",
        "plt.show()\n",
        "# prenatal, injury, circulatory, and respiratory features showed the highest importance when fitting the model"
      ],
      "metadata": {
        "colab": {
          "base_uri": "https://localhost:8080/",
          "height": 627
        },
        "id": "waNabhAEMGtT",
        "outputId": "d54390d3-2633-4f3f-f04c-5694b10e2782"
      },
      "execution_count": 45,
      "outputs": [
        {
          "output_type": "display_data",
          "data": {
            "text/plain": [
              "<Figure size 720x720 with 1 Axes>"
            ],
            "image/png": "[encoded data removed]"
          },
          "metadata": {}
        }
      ]
    }
  ]
}